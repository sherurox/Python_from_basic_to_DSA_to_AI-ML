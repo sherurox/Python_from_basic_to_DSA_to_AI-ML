{
 "cells": [
  {
   "cell_type": "code",
   "execution_count": 3,
   "id": "e11929b0-57a6-4b91-a25d-d7a66b8bfc33",
   "metadata": {},
   "outputs": [
    {
     "name": "stdout",
     "output_type": "stream",
     "text": [
      "1\n",
      "2\n",
      "3\n",
      "4\n",
      "5\n",
      "6\n",
      "7\n",
      "8\n",
      "9\n",
      "10\n"
     ]
    }
   ],
   "source": [
    "#For loop\n",
    "\n",
    "x= [1,2,3,4,5,6,7,8,9,10]\n",
    "\n",
    "for a in x:\n",
    "    print (a)"
   ]
  },
  {
   "cell_type": "code",
   "execution_count": 11,
   "id": "298b0b0c-b7a8-41ce-936e-cac89fd943ec",
   "metadata": {},
   "outputs": [
    {
     "name": "stdout",
     "output_type": "stream",
     "text": [
      "1\n",
      "2\n",
      "3\n",
      "4\n",
      "5\n",
      "6\n",
      "7\n",
      "8\n",
      "9\n",
      "10\n"
     ]
    }
   ],
   "source": [
    "for i in range(len(x)): #range(len(x)): Generates indices from 0 to len(x) - 1\n",
    "    print(x[i])"
   ]
  },
  {
   "cell_type": "code",
   "execution_count": 21,
   "id": "4f1d72f8-74f1-4d0c-8db9-a274d18709b6",
   "metadata": {},
   "outputs": [
    {
     "name": "stdout",
     "output_type": "stream",
     "text": [
      "1\n",
      "2\n",
      "3\n",
      "4\n",
      "5\n",
      "6\n",
      "7\n",
      "8\n",
      "9\n",
      "10\n"
     ]
    }
   ],
   "source": [
    "i=0\n",
    "while i<len(x):\n",
    "    print(x[i])\n",
    "    i+=1"
   ]
  },
  {
   "cell_type": "code",
   "execution_count": 41,
   "id": "e0c5b070-84b7-488d-8100-c9a61be10fa9",
   "metadata": {},
   "outputs": [
    {
     "name": "stdout",
     "output_type": "stream",
     "text": [
      "R\n",
      "o\n",
      "n\n"
     ]
    }
   ],
   "source": [
    "for i in \"Ronaldo\":\n",
    "    if i=='a':\n",
    "        break\n",
    "    else:\n",
    "        print(i)\n"
   ]
  },
  {
   "cell_type": "code",
   "execution_count": 43,
   "id": "ee9ba1ea-3021-4809-837f-d9902a5bb000",
   "metadata": {},
   "outputs": [
    {
     "name": "stdout",
     "output_type": "stream",
     "text": [
      "R\n",
      "o\n",
      "n\n",
      "l\n",
      "d\n",
      "o\n"
     ]
    }
   ],
   "source": [
    "for i in \"Ronaldo\":\n",
    "    if i=='a':\n",
    "        continue\n",
    "    else:\n",
    "        print(i)\n"
   ]
  },
  {
   "cell_type": "code",
   "execution_count": 51,
   "id": "3012a172-292e-4010-b69e-6ea50dd79c44",
   "metadata": {},
   "outputs": [
    {
     "name": "stdout",
     "output_type": "stream",
     "text": [
      "0\n",
      "4\n",
      "8\n",
      "12\n",
      "16\n",
      "20\n",
      "24\n",
      "28\n",
      "32\n",
      "36\n",
      "40\n",
      "44\n",
      "48\n",
      "52\n",
      "56\n",
      "60\n",
      "64\n",
      "68\n",
      "72\n",
      "76\n",
      "80\n",
      "84\n",
      "88\n",
      "92\n",
      "96\n",
      "Printing over\n"
     ]
    }
   ],
   "source": [
    "for x in range (0,100,4): # (start including, end excluding, jump by value )\n",
    "    print (x)\n",
    "\n",
    "else:\n",
    "    print(\"Printing over\")"
   ]
  },
  {
   "cell_type": "code",
   "execution_count": 55,
   "id": "c86ec66e-ad87-4f42-aae4-3e39bc77d90f",
   "metadata": {},
   "outputs": [
    {
     "name": "stdout",
     "output_type": "stream",
     "text": [
      "1 4\n",
      "1 5\n",
      "1 6\n",
      "2 4\n",
      "2 5\n",
      "2 6\n",
      "3 4\n",
      "3 5\n",
      "3 6\n"
     ]
    }
   ],
   "source": [
    "#nested loops\n",
    "x = [1,2,3]\n",
    "y = [4,5,6]\n",
    "\n",
    "for i in x:\n",
    "    for j in y:\n",
    "        print (i,j)"
   ]
  },
  {
   "cell_type": "code",
   "execution_count": null,
   "id": "aca44f1f-139e-44b3-ad36-4a4d569953d5",
   "metadata": {},
   "outputs": [],
   "source": []
  }
 ],
 "metadata": {
  "kernelspec": {
   "display_name": "Python 3 (ipykernel)",
   "language": "python",
   "name": "python3"
  },
  "language_info": {
   "codemirror_mode": {
    "name": "ipython",
    "version": 3
   },
   "file_extension": ".py",
   "mimetype": "text/x-python",
   "name": "python",
   "nbconvert_exporter": "python",
   "pygments_lexer": "ipython3",
   "version": "3.12.4"
  }
 },
 "nbformat": 4,
 "nbformat_minor": 5
}
