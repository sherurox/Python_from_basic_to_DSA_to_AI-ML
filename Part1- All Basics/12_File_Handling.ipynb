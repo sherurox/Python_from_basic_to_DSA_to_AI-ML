{
 "cells": [
  {
   "cell_type": "code",
   "execution_count": 11,
   "id": "31647400-f3ee-485f-8995-efcb2dfadb9f",
   "metadata": {},
   "outputs": [],
   "source": [
    "file = open(\"README.txt\", \"r\") #r for read, w for write, a for append "
   ]
  },
  {
   "cell_type": "code",
   "execution_count": 13,
   "id": "2a29e99a-5c38-404d-b99e-6b92c0d09127",
   "metadata": {},
   "outputs": [],
   "source": [
    "x= file.read()"
   ]
  },
  {
   "cell_type": "code",
   "execution_count": 17,
   "id": "8c9dfd14-4ea0-4fd6-a79a-afd80bfa6fe1",
   "metadata": {},
   "outputs": [
    {
     "name": "stdout",
     "output_type": "stream",
     "text": [
      " Welcome to my zero to hero repo where I have covered all concepts from scratch to advanced level, follow the below order\n",
      "\n",
      "1. Numbers\n",
      "2. String_Manipulations\n",
      "3. Lists\n",
      "4. Tuples\n",
      "5. Dictionary\n",
      "6. Operators\n",
      "7. Functions_and_Methods\n",
      "8. Types_of_Errors\n",
      "9. Decision_Making_Conditioning\n",
      "10. Loops\n",
      "11. Date_and_Time\n",
      "12. File_Handling\n"
     ]
    }
   ],
   "source": [
    "print(x)"
   ]
  },
  {
   "cell_type": "code",
   "execution_count": null,
   "id": "6fe3e29b-6648-40d5-9f25-a02bf7e3137e",
   "metadata": {},
   "outputs": [],
   "source": []
  }
 ],
 "metadata": {
  "kernelspec": {
   "display_name": "Python 3 (ipykernel)",
   "language": "python",
   "name": "python3"
  },
  "language_info": {
   "codemirror_mode": {
    "name": "ipython",
    "version": 3
   },
   "file_extension": ".py",
   "mimetype": "text/x-python",
   "name": "python",
   "nbconvert_exporter": "python",
   "pygments_lexer": "ipython3",
   "version": "3.12.4"
  }
 },
 "nbformat": 4,
 "nbformat_minor": 5
}
