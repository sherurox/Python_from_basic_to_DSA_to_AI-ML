{
 "cells": [
  {
   "cell_type": "code",
   "execution_count": 1,
   "id": "330700a9-ab20-4bba-bca2-b5389af44a92",
   "metadata": {},
   "outputs": [],
   "source": [
    "import json"
   ]
  },
  {
   "cell_type": "code",
   "execution_count": 11,
   "id": "67f5ac87-f8d7-4900-ba69-7453636ea8b4",
   "metadata": {},
   "outputs": [
    {
     "name": "stdout",
     "output_type": "stream",
     "text": [
      "{'number': 7, 'Name': 'Ronaldo', 'age': 39, 'Position': 'Striker'}\n"
     ]
    }
   ],
   "source": [
    "x = {\"number\": 7, \"Name\": \"Ronaldo\", \"age\" : 39, \"Position\": \"Striker\"}\n",
    "print (x)"
   ]
  },
  {
   "cell_type": "code",
   "execution_count": 5,
   "id": "b45b8b47-0d16-4685-b215-e5eda27f0432",
   "metadata": {},
   "outputs": [],
   "source": [
    "y = json.dumps(x) # py dictionary to json conversion"
   ]
  },
  {
   "cell_type": "code",
   "execution_count": 7,
   "id": "42438c1e-9d8d-49a0-805b-80395fe4af8b",
   "metadata": {},
   "outputs": [
    {
     "name": "stdout",
     "output_type": "stream",
     "text": [
      "{\"number\": 7, \"Name\": \"Ronaldo\", \"age\": 39, \"Position\": \"Striker\"}\n"
     ]
    }
   ],
   "source": [
    "print(y)"
   ]
  },
  {
   "cell_type": "code",
   "execution_count": 17,
   "id": "6e4cd87a-5947-4d81-a7cf-6026374814fb",
   "metadata": {},
   "outputs": [],
   "source": [
    "x = '{\"number\": 7, \"Name\": \"Ronaldo\", \"age\" : 39, \"Position\": \"Striker\"}'\n",
    "y = json.loads(x) #json to py dictionary remember to add those quotes"
   ]
  },
  {
   "cell_type": "code",
   "execution_count": 27,
   "id": "720bb0aa-c164-4031-898c-2e917ad94856",
   "metadata": {},
   "outputs": [
    {
     "name": "stdout",
     "output_type": "stream",
     "text": [
      "Ronaldo\n"
     ]
    }
   ],
   "source": [
    "print (y[\"Name\"])"
   ]
  },
  {
   "cell_type": "code",
   "execution_count": null,
   "id": "13843069-05de-4b01-9d12-091cfcabc321",
   "metadata": {},
   "outputs": [],
   "source": []
  }
 ],
 "metadata": {
  "kernelspec": {
   "display_name": "Python 3 (ipykernel)",
   "language": "python",
   "name": "python3"
  },
  "language_info": {
   "codemirror_mode": {
    "name": "ipython",
    "version": 3
   },
   "file_extension": ".py",
   "mimetype": "text/x-python",
   "name": "python",
   "nbconvert_exporter": "python",
   "pygments_lexer": "ipython3",
   "version": "3.12.4"
  }
 },
 "nbformat": 4,
 "nbformat_minor": 5
}
