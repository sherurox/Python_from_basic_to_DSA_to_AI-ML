{
 "cells": [
  {
   "cell_type": "code",
   "execution_count": 43,
   "id": "218eb13f-5df2-4d2b-a372-6a8eb5511520",
   "metadata": {},
   "outputs": [],
   "source": [
    "# String Manipulations\n",
    "# All lists have x= []\n",
    "# All dictionary have x= { index : item}\n",
    "# All tuples have x= ()"
   ]
  },
  {
   "cell_type": "code",
   "execution_count": 3,
   "id": "f4d4e223-c680-45e5-bcca-58e321fe6db1",
   "metadata": {},
   "outputs": [
    {
     "data": {
      "text/plain": [
       "['__add__',\n",
       " '__class__',\n",
       " '__contains__',\n",
       " '__delattr__',\n",
       " '__dir__',\n",
       " '__doc__',\n",
       " '__eq__',\n",
       " '__format__',\n",
       " '__ge__',\n",
       " '__getattribute__',\n",
       " '__getitem__',\n",
       " '__getnewargs__',\n",
       " '__getstate__',\n",
       " '__gt__',\n",
       " '__hash__',\n",
       " '__init__',\n",
       " '__init_subclass__',\n",
       " '__iter__',\n",
       " '__le__',\n",
       " '__len__',\n",
       " '__lt__',\n",
       " '__mod__',\n",
       " '__mul__',\n",
       " '__ne__',\n",
       " '__new__',\n",
       " '__reduce__',\n",
       " '__reduce_ex__',\n",
       " '__repr__',\n",
       " '__rmod__',\n",
       " '__rmul__',\n",
       " '__setattr__',\n",
       " '__sizeof__',\n",
       " '__str__',\n",
       " '__subclasshook__',\n",
       " 'capitalize',\n",
       " 'casefold',\n",
       " 'center',\n",
       " 'count',\n",
       " 'encode',\n",
       " 'endswith',\n",
       " 'expandtabs',\n",
       " 'find',\n",
       " 'format',\n",
       " 'format_map',\n",
       " 'index',\n",
       " 'isalnum',\n",
       " 'isalpha',\n",
       " 'isascii',\n",
       " 'isdecimal',\n",
       " 'isdigit',\n",
       " 'isidentifier',\n",
       " 'islower',\n",
       " 'isnumeric',\n",
       " 'isprintable',\n",
       " 'isspace',\n",
       " 'istitle',\n",
       " 'isupper',\n",
       " 'join',\n",
       " 'ljust',\n",
       " 'lower',\n",
       " 'lstrip',\n",
       " 'maketrans',\n",
       " 'partition',\n",
       " 'removeprefix',\n",
       " 'removesuffix',\n",
       " 'replace',\n",
       " 'rfind',\n",
       " 'rindex',\n",
       " 'rjust',\n",
       " 'rpartition',\n",
       " 'rsplit',\n",
       " 'rstrip',\n",
       " 'split',\n",
       " 'splitlines',\n",
       " 'startswith',\n",
       " 'strip',\n",
       " 'swapcase',\n",
       " 'title',\n",
       " 'translate',\n",
       " 'upper',\n",
       " 'zfill']"
      ]
     },
     "execution_count": 3,
     "metadata": {},
     "output_type": "execute_result"
    }
   ],
   "source": [
    "dir(\"string\")"
   ]
  },
  {
   "cell_type": "code",
   "execution_count": 9,
   "id": "9c181c4a-e9b5-4a8b-b53a-a1ff8cc58a1b",
   "metadata": {},
   "outputs": [],
   "source": [
    "x = \"Shreyas\""
   ]
  },
  {
   "cell_type": "code",
   "execution_count": 11,
   "id": "63145332-ec37-4789-8efd-a091e1eefd1d",
   "metadata": {},
   "outputs": [],
   "source": [
    "y= f\"my name is {x}\""
   ]
  },
  {
   "cell_type": "code",
   "execution_count": 13,
   "id": "ccc2ec90-d2e7-4b5c-b79d-8570cc09a303",
   "metadata": {},
   "outputs": [
    {
     "name": "stdout",
     "output_type": "stream",
     "text": [
      "my name is Shreyas\n"
     ]
    }
   ],
   "source": [
    "print (y)"
   ]
  },
  {
   "cell_type": "code",
   "execution_count": 14,
   "id": "3bbc9d75-a97c-4b98-b82c-e13f55376a88",
   "metadata": {},
   "outputs": [],
   "source": [
    "xx = \"21\""
   ]
  },
  {
   "cell_type": "code",
   "execution_count": 16,
   "id": "bcf402d3-88b2-48b5-bbc7-7dbd93a716b2",
   "metadata": {},
   "outputs": [],
   "source": [
    "z = f\"{y} and my age is {xx}\""
   ]
  },
  {
   "cell_type": "code",
   "execution_count": 18,
   "id": "144ec578-5e7a-46d4-895a-cde739a70be8",
   "metadata": {},
   "outputs": [
    {
     "name": "stdout",
     "output_type": "stream",
     "text": [
      "21 and my age is 21\n"
     ]
    }
   ],
   "source": [
    "print (z)"
   ]
  },
  {
   "cell_type": "code",
   "execution_count": 20,
   "id": "30436d8d-c4be-4689-9331-d9ebe425b72d",
   "metadata": {},
   "outputs": [],
   "source": [
    "y= f\"my name is {x}\"\n",
    "xx = \"21\"\n",
    "z = f\"{y} and my age is {xx}\""
   ]
  },
  {
   "cell_type": "code",
   "execution_count": 22,
   "id": "cbf4721a-b05b-4f00-936a-40f820a57a8a",
   "metadata": {},
   "outputs": [
    {
     "name": "stdout",
     "output_type": "stream",
     "text": [
      "my name is Shreyas and my age is 21\n"
     ]
    }
   ],
   "source": [
    "print (z)\n"
   ]
  },
  {
   "cell_type": "code",
   "execution_count": 34,
   "id": "facca448-79be-4774-8ef4-10c51e3f10a6",
   "metadata": {},
   "outputs": [],
   "source": [
    "h= [\"football\", \"cricket\"]\n",
    "t = f\" and my hobbies are {h[0]} and {h[1]} \""
   ]
  },
  {
   "cell_type": "code",
   "execution_count": 36,
   "id": "871657f2-a137-4d7c-b993-e0b7b872fe06",
   "metadata": {},
   "outputs": [
    {
     "name": "stdout",
     "output_type": "stream",
     "text": [
      "my name is Shreyas and my age is 21  and my hobbies are football and cricket \n"
     ]
    }
   ],
   "source": [
    "print (z + \" \" + t)"
   ]
  },
  {
   "cell_type": "code",
   "execution_count": 41,
   "id": "463b7e7c-0267-4728-a38b-6b9844befae3",
   "metadata": {},
   "outputs": [
    {
     "name": "stdout",
     "output_type": "stream",
     "text": [
      "e wat\n"
     ]
    }
   ],
   "source": [
    "x = 'save water' #end exclude\n",
    "print (x[3:8])"
   ]
  },
  {
   "cell_type": "code",
   "execution_count": 21,
   "id": "588e9a32-9349-42ba-a1b6-50c8959876c1",
   "metadata": {},
   "outputs": [
    {
     "data": {
      "text/plain": [
       "'Heaao worad'"
      ]
     },
     "execution_count": 21,
     "metadata": {},
     "output_type": "execute_result"
    }
   ],
   "source": [
    "x= \"Hello world\"\n",
    "x.replace('l','a')"
   ]
  },
  {
   "cell_type": "code",
   "execution_count": 43,
   "id": "dceebae9-acfb-4d23-a3b1-9518f07c8b16",
   "metadata": {},
   "outputs": [
    {
     "data": {
      "text/plain": [
       "'ell'"
      ]
     },
     "execution_count": 43,
     "metadata": {},
     "output_type": "execute_result"
    }
   ],
   "source": [
    "x= \"Hello world\"\n",
    "x[1:4] # end excluding"
   ]
  },
  {
   "cell_type": "code",
   "execution_count": 27,
   "id": "3f045196-2409-479a-b848-f4b83321f692",
   "metadata": {},
   "outputs": [
    {
     "data": {
      "text/plain": [
       "'ello world'"
      ]
     },
     "execution_count": 27,
     "metadata": {},
     "output_type": "execute_result"
    }
   ],
   "source": [
    "x[1:] # start including"
   ]
  },
  {
   "cell_type": "code",
   "execution_count": 29,
   "id": "25c86535-9a36-45e2-b779-6d4491a1e972",
   "metadata": {},
   "outputs": [
    {
     "data": {
      "text/plain": [
       "'Hello world'"
      ]
     },
     "execution_count": 29,
     "metadata": {},
     "output_type": "execute_result"
    }
   ],
   "source": [
    "x[:]"
   ]
  },
  {
   "cell_type": "code",
   "execution_count": 31,
   "id": "7ee9c675-d1d0-4b02-83dc-1fc479eb3b16",
   "metadata": {},
   "outputs": [
    {
     "data": {
      "text/plain": [
       "'Hell'"
      ]
     },
     "execution_count": 31,
     "metadata": {},
     "output_type": "execute_result"
    }
   ],
   "source": [
    "x[:4] # end excluding"
   ]
  },
  {
   "cell_type": "code",
   "execution_count": 33,
   "id": "594fddbc-ef4b-42f3-88a8-625a77d06cf5",
   "metadata": {},
   "outputs": [
    {
     "data": {
      "text/plain": [
       "'d'"
      ]
     },
     "execution_count": 33,
     "metadata": {},
     "output_type": "execute_result"
    }
   ],
   "source": [
    "x[-1]"
   ]
  },
  {
   "cell_type": "code",
   "execution_count": 37,
   "id": "ff8f588b-c73e-41c7-af95-61d7ab1c9bb6",
   "metadata": {},
   "outputs": [
    {
     "data": {
      "text/plain": [
       "'r'"
      ]
     },
     "execution_count": 37,
     "metadata": {},
     "output_type": "execute_result"
    }
   ],
   "source": [
    "x[-3]"
   ]
  },
  {
   "cell_type": "code",
   "execution_count": 39,
   "id": "f3a36d6a-6d29-4d63-b80a-0a36573ac636",
   "metadata": {},
   "outputs": [
    {
     "data": {
      "text/plain": [
       "'rl'"
      ]
     },
     "execution_count": 39,
     "metadata": {},
     "output_type": "execute_result"
    }
   ],
   "source": [
    "x[-3 : -1] # end excluding "
   ]
  },
  {
   "cell_type": "code",
   "execution_count": null,
   "id": "16e5c205-7e35-492a-a16e-a3abcecec91e",
   "metadata": {},
   "outputs": [],
   "source": []
  }
 ],
 "metadata": {
  "kernelspec": {
   "display_name": "Python 3 (ipykernel)",
   "language": "python",
   "name": "python3"
  },
  "language_info": {
   "codemirror_mode": {
    "name": "ipython",
    "version": 3
   },
   "file_extension": ".py",
   "mimetype": "text/x-python",
   "name": "python",
   "nbconvert_exporter": "python",
   "pygments_lexer": "ipython3",
   "version": "3.12.4"
  }
 },
 "nbformat": 4,
 "nbformat_minor": 5
}
