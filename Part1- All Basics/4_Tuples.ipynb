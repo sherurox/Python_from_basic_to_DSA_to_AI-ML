{
 "cells": [
  {
   "cell_type": "code",
   "execution_count": 12,
   "id": "190fdcdf-f6ee-4865-9176-0f7d3fd5678a",
   "metadata": {},
   "outputs": [],
   "source": [
    "# All lists have x= []\n",
    "# All dictionary have x= { index : item}\n",
    "# All tuples have x= ()\n",
    "x = (\"Ronaldo\", \"Suiiii\",7)"
   ]
  },
  {
   "cell_type": "code",
   "execution_count": 4,
   "id": "c75d83dd-1086-40fd-a43b-063b78da732a",
   "metadata": {},
   "outputs": [
    {
     "name": "stdout",
     "output_type": "stream",
     "text": [
      "('Ronaldo', 'Suiiii', 7)\n"
     ]
    }
   ],
   "source": [
    "print (x)"
   ]
  },
  {
   "cell_type": "code",
   "execution_count": 6,
   "id": "74652720-646b-4730-8be6-a47030ed8abb",
   "metadata": {},
   "outputs": [],
   "source": [
    "#cant be manipulated"
   ]
  },
  {
   "cell_type": "code",
   "execution_count": 10,
   "id": "5a03a9e9-0df0-443b-a887-1c4ac98a48ef",
   "metadata": {},
   "outputs": [
    {
     "data": {
      "text/plain": [
       "['__add__',\n",
       " '__class__',\n",
       " '__class_getitem__',\n",
       " '__contains__',\n",
       " '__delattr__',\n",
       " '__dir__',\n",
       " '__doc__',\n",
       " '__eq__',\n",
       " '__format__',\n",
       " '__ge__',\n",
       " '__getattribute__',\n",
       " '__getitem__',\n",
       " '__getnewargs__',\n",
       " '__getstate__',\n",
       " '__gt__',\n",
       " '__hash__',\n",
       " '__init__',\n",
       " '__init_subclass__',\n",
       " '__iter__',\n",
       " '__le__',\n",
       " '__len__',\n",
       " '__lt__',\n",
       " '__mul__',\n",
       " '__ne__',\n",
       " '__new__',\n",
       " '__reduce__',\n",
       " '__reduce_ex__',\n",
       " '__repr__',\n",
       " '__rmul__',\n",
       " '__setattr__',\n",
       " '__sizeof__',\n",
       " '__str__',\n",
       " '__subclasshook__',\n",
       " 'count',\n",
       " 'index']"
      ]
     },
     "execution_count": 10,
     "metadata": {},
     "output_type": "execute_result"
    }
   ],
   "source": [
    "dir(tuple)"
   ]
  },
  {
   "cell_type": "code",
   "execution_count": null,
   "id": "0f3624e9-2fb3-4f1b-a7f4-f8ca9754b7ae",
   "metadata": {},
   "outputs": [],
   "source": []
  }
 ],
 "metadata": {
  "kernelspec": {
   "display_name": "Python 3 (ipykernel)",
   "language": "python",
   "name": "python3"
  },
  "language_info": {
   "codemirror_mode": {
    "name": "ipython",
    "version": 3
   },
   "file_extension": ".py",
   "mimetype": "text/x-python",
   "name": "python",
   "nbconvert_exporter": "python",
   "pygments_lexer": "ipython3",
   "version": "3.12.4"
  }
 },
 "nbformat": 4,
 "nbformat_minor": 5
}
