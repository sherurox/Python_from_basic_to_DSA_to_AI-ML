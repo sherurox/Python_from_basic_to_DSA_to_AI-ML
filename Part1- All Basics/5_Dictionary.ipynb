{
 "cells": [
  {
   "cell_type": "code",
   "execution_count": 26,
   "id": "94491962-75f3-44f2-8aa3-602dd7bccd3f",
   "metadata": {},
   "outputs": [],
   "source": [
    "# All lists have x= []\n",
    "# All dictionary have x= { index : item}\n",
    "# All tuples have x= ()\n",
    "x = {\"number\": 7, \"Name\": \"Ronaldo\", \"age\" : 39, \"Position\": \"Striker\"}"
   ]
  },
  {
   "cell_type": "code",
   "execution_count": 10,
   "id": "7cc35567-cc02-4fb5-8a32-85790b33abb4",
   "metadata": {},
   "outputs": [
    {
     "name": "stdout",
     "output_type": "stream",
     "text": [
      "7\n"
     ]
    }
   ],
   "source": [
    "print ( x[\"number\"] )"
   ]
  },
  {
   "cell_type": "code",
   "execution_count": 12,
   "id": "2e59c106-99b3-4120-8f14-f866589981b7",
   "metadata": {},
   "outputs": [],
   "source": [
    "x[\"Position\"] = \"Left wing\""
   ]
  },
  {
   "cell_type": "code",
   "execution_count": 14,
   "id": "e24e734b-fb68-4732-ad0a-0ce4ad7558f3",
   "metadata": {},
   "outputs": [
    {
     "name": "stdout",
     "output_type": "stream",
     "text": [
      "{'number': 7, 'Name': 'Ronaldo', 'age': 39, 'Position': 'Left wing'}\n"
     ]
    }
   ],
   "source": [
    "print (x)"
   ]
  },
  {
   "cell_type": "code",
   "execution_count": 16,
   "id": "26734ac4-aa3a-4986-bf8b-b1fedad29f98",
   "metadata": {},
   "outputs": [
    {
     "data": {
      "text/plain": [
       "4"
      ]
     },
     "execution_count": 16,
     "metadata": {},
     "output_type": "execute_result"
    }
   ],
   "source": [
    "len(x)"
   ]
  },
  {
   "cell_type": "code",
   "execution_count": 18,
   "id": "4df8227b-3836-4416-b72f-236c4a340632",
   "metadata": {},
   "outputs": [
    {
     "data": {
      "text/plain": [
       "39"
      ]
     },
     "execution_count": 18,
     "metadata": {},
     "output_type": "execute_result"
    }
   ],
   "source": [
    "x.pop(\"age\")"
   ]
  },
  {
   "cell_type": "code",
   "execution_count": 20,
   "id": "03e08881-8817-4c2c-be7f-317adc5cf556",
   "metadata": {},
   "outputs": [
    {
     "name": "stdout",
     "output_type": "stream",
     "text": [
      "{'number': 7, 'Name': 'Ronaldo', 'Position': 'Left wing'}\n"
     ]
    }
   ],
   "source": [
    "print (x)"
   ]
  },
  {
   "cell_type": "code",
   "execution_count": 22,
   "id": "78c1c3ce-db93-48f8-9467-c6b29ccbf236",
   "metadata": {},
   "outputs": [
    {
     "data": {
      "text/plain": [
       "('Position', 'Left wing')"
      ]
     },
     "execution_count": 22,
     "metadata": {},
     "output_type": "execute_result"
    }
   ],
   "source": [
    "x.popitem() # to delete the last item"
   ]
  },
  {
   "cell_type": "code",
   "execution_count": 24,
   "id": "897c0507-39fa-47d4-a68e-6ae1490995d8",
   "metadata": {},
   "outputs": [
    {
     "name": "stdout",
     "output_type": "stream",
     "text": [
      "{'number': 7, 'Name': 'Ronaldo'}\n"
     ]
    }
   ],
   "source": [
    "print (x)"
   ]
  },
  {
   "cell_type": "code",
   "execution_count": null,
   "id": "6a6c93cd-3c30-4bc7-bc09-c539896e2b9b",
   "metadata": {},
   "outputs": [],
   "source": []
  }
 ],
 "metadata": {
  "kernelspec": {
   "display_name": "Python 3 (ipykernel)",
   "language": "python",
   "name": "python3"
  },
  "language_info": {
   "codemirror_mode": {
    "name": "ipython",
    "version": 3
   },
   "file_extension": ".py",
   "mimetype": "text/x-python",
   "name": "python",
   "nbconvert_exporter": "python",
   "pygments_lexer": "ipython3",
   "version": "3.12.4"
  }
 },
 "nbformat": 4,
 "nbformat_minor": 5
}
