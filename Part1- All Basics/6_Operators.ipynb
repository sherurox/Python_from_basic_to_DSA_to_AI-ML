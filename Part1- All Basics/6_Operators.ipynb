{
 "cells": [
  {
   "cell_type": "code",
   "execution_count": 2,
   "id": "50da9241-4083-43f5-b269-0ff88b9e079e",
   "metadata": {},
   "outputs": [],
   "source": [
    "#Operators in Python"
   ]
  },
  {
   "cell_type": "code",
   "execution_count": 8,
   "id": "359bb518-79d7-4c08-8ef1-2acfaa4d22d5",
   "metadata": {},
   "outputs": [
    {
     "data": {
      "text/plain": [
       "'\\nTypes:\\n1. Arithmatic Operators\\n2. Assignment Operators\\n3. Comparison Operators\\n4. Logical Operators\\n5. Identity Operators\\n6. Membership Operators\\n7. Bitwise Operators \\n'"
      ]
     },
     "execution_count": 8,
     "metadata": {},
     "output_type": "execute_result"
    }
   ],
   "source": [
    "'''\n",
    "Types:\n",
    "1. Arithmatic Operators\n",
    "2. Assignment Operators\n",
    "3. Comparison Operators\n",
    "4. Logical Operators\n",
    "5. Identity Operators\n",
    "6. Membership Operators\n",
    "7. Bitwise Operators \n",
    "'''"
   ]
  },
  {
   "cell_type": "code",
   "execution_count": 12,
   "id": "39cb3ad4-20c2-488b-84de-d9073a2ba532",
   "metadata": {},
   "outputs": [
    {
     "data": {
      "text/plain": [
       "'\\nArithmatic Operators\\n\\n1. +\\n2. -\\n3. *\\n4. /\\n5. %\\n6. **\\n7. //\\n'"
      ]
     },
     "execution_count": 12,
     "metadata": {},
     "output_type": "execute_result"
    }
   ],
   "source": [
    "'''\n",
    "Arithmatic Operators\n",
    "\n",
    "1. +\n",
    "2. -\n",
    "3. *\n",
    "4. /\n",
    "5. %\n",
    "6. **\n",
    "7. //\n",
    "'''"
   ]
  },
  {
   "cell_type": "code",
   "execution_count": 20,
   "id": "d4a20861-615a-4316-91c5-e5114e19fed9",
   "metadata": {},
   "outputs": [
    {
     "name": "stdout",
     "output_type": "stream",
     "text": [
      "4.5\n"
     ]
    }
   ],
   "source": [
    "print (9/2)"
   ]
  },
  {
   "cell_type": "code",
   "execution_count": 22,
   "id": "8d9a65dc-d287-40bb-8031-dfed190263bb",
   "metadata": {},
   "outputs": [
    {
     "name": "stdout",
     "output_type": "stream",
     "text": [
      "4\n"
     ]
    }
   ],
   "source": [
    "print (9//2) #returns the integer part"
   ]
  },
  {
   "cell_type": "code",
   "execution_count": 28,
   "id": "1da4128d-e8e1-4d74-ac12-0d620e57f4eb",
   "metadata": {},
   "outputs": [
    {
     "name": "stdout",
     "output_type": "stream",
     "text": [
      "8\n"
     ]
    }
   ],
   "source": [
    "print (2**3) #2 ^3 = 8"
   ]
  },
  {
   "cell_type": "code",
   "execution_count": 63,
   "id": "bf046338-632e-4948-8505-bb66cf7f1049",
   "metadata": {},
   "outputs": [
    {
     "data": {
      "text/plain": [
       "'\\nAssignment Operators\\n\\n1. =\\n2. +=\\n3. -=\\n4. *=\\n5. /=\\n6. %=\\n7. **=\\n8. //=\\n'"
      ]
     },
     "execution_count": 63,
     "metadata": {},
     "output_type": "execute_result"
    }
   ],
   "source": [
    "'''\n",
    "Assignment Operators\n",
    "\n",
    "1. =\n",
    "2. +=\n",
    "3. -=\n",
    "4. *=\n",
    "5. /=\n",
    "6. %=\n",
    "7. **=\n",
    "8. //=\n",
    "'''"
   ]
  },
  {
   "cell_type": "code",
   "execution_count": 72,
   "id": "a0706f66-900f-4126-bf77-6ad6ba59de2a",
   "metadata": {},
   "outputs": [
    {
     "data": {
      "text/plain": [
       "'\\nComparison Operators\\n\\n1. ==\\n2. !=\\n3. >=\\n4. <=\\n5. <\\n6. >\\n'"
      ]
     },
     "execution_count": 72,
     "metadata": {},
     "output_type": "execute_result"
    }
   ],
   "source": [
    "'''\n",
    "Comparison Operators\n",
    "\n",
    "1. ==\n",
    "2. !=\n",
    "3. >=\n",
    "4. <=\n",
    "5. <\n",
    "6. >\n",
    "'''"
   ]
  },
  {
   "cell_type": "code",
   "execution_count": 76,
   "id": "62dd7ccc-39bd-4ced-9738-bf143bf3296c",
   "metadata": {},
   "outputs": [
    {
     "data": {
      "text/plain": [
       "'\\nLogical Operators\\n\\n1. and\\n2. or\\n3. not\\n'"
      ]
     },
     "execution_count": 76,
     "metadata": {},
     "output_type": "execute_result"
    }
   ],
   "source": [
    "'''\n",
    "Logical Operators\n",
    "\n",
    "1. and\n",
    "2. or\n",
    "3. not\n",
    "'''"
   ]
  },
  {
   "cell_type": "code",
   "execution_count": 82,
   "id": "3602b757-c84f-42f1-9831-369605e0820e",
   "metadata": {},
   "outputs": [
    {
     "data": {
      "text/plain": [
       "'\\nIdentity Operators\\n\\n1. is\\n2. is not\\n\\nreturns true or false \\n(boolean output)\\n'"
      ]
     },
     "execution_count": 82,
     "metadata": {},
     "output_type": "execute_result"
    }
   ],
   "source": [
    "'''\n",
    "Identity Operators\n",
    "\n",
    "1. is\n",
    "2. is not\n",
    "\n",
    "returns true or false \n",
    "(boolean output)\n",
    "'''"
   ]
  },
  {
   "cell_type": "code",
   "execution_count": 92,
   "id": "b486ed90-cf30-4bd0-b127-cbe1bbf80a97",
   "metadata": {},
   "outputs": [
    {
     "data": {
      "text/plain": [
       "'\\nMembership Operators\\n\\n1. in\\n2. not in\\nreturns true or false \\n(boolean output)\\n'"
      ]
     },
     "execution_count": 92,
     "metadata": {},
     "output_type": "execute_result"
    }
   ],
   "source": [
    "'''\n",
    "Membership Operators\n",
    "\n",
    "1. in\n",
    "2. not in\n",
    "returns true or false \n",
    "(boolean output)\n",
    "'''"
   ]
  },
  {
   "cell_type": "code",
   "execution_count": 94,
   "id": "c11a0c8c-529c-4105-97f1-7611bdea5524",
   "metadata": {},
   "outputs": [
    {
     "name": "stdout",
     "output_type": "stream",
     "text": [
      "True\n"
     ]
    }
   ],
   "source": [
    "x = [1,2,3]\n",
    "print (3 in x)"
   ]
  },
  {
   "cell_type": "code",
   "execution_count": 96,
   "id": "6e1dbb49-d175-47ba-91a2-1ccecb6c2a2e",
   "metadata": {},
   "outputs": [
    {
     "name": "stdout",
     "output_type": "stream",
     "text": [
      "True\n"
     ]
    }
   ],
   "source": [
    "print (5 not in x)"
   ]
  },
  {
   "cell_type": "code",
   "execution_count": 11,
   "id": "34a50fc8-8b90-4477-aed2-8620a58357b2",
   "metadata": {},
   "outputs": [
    {
     "name": "stdout",
     "output_type": "stream",
     "text": [
      "sui\n"
     ]
    }
   ],
   "source": [
    "#Dynamic Assigning\n",
    "x=3\n",
    "x=5\n",
    "x= \"sui\"\n",
    "print(x)"
   ]
  },
  {
   "cell_type": "code",
   "execution_count": 17,
   "id": "cbd6dfa0-9f27-4fc4-823e-443facdf77d3",
   "metadata": {},
   "outputs": [
    {
     "ename": "SyntaxError",
     "evalue": "invalid syntax (1522662930.py, line 2)",
     "output_type": "error",
     "traceback": [
      "\u001b[0;36m  Cell \u001b[0;32mIn[17], line 2\u001b[0;36m\u001b[0m\n\u001b[0;31m    int x= 3\u001b[0m\n\u001b[0m        ^\u001b[0m\n\u001b[0;31mSyntaxError\u001b[0m\u001b[0;31m:\u001b[0m invalid syntax\n"
     ]
    }
   ],
   "source": [
    "#Static Assigning\n",
    "int x= 3\n",
    "x= 'c'\n",
    "print (x)"
   ]
  },
  {
   "cell_type": "code",
   "execution_count": 19,
   "id": "ab07e0d8-01eb-43a0-a260-1fda3580d025",
   "metadata": {},
   "outputs": [
    {
     "data": {
      "text/plain": [
       "int"
      ]
     },
     "execution_count": 19,
     "metadata": {},
     "output_type": "execute_result"
    }
   ],
   "source": [
    "#Type casting\n",
    "x=2\n",
    "type(x)"
   ]
  },
  {
   "cell_type": "code",
   "execution_count": 21,
   "id": "8a9b7cbf-ef24-4118-9a4b-26a79620aa3a",
   "metadata": {},
   "outputs": [
    {
     "data": {
      "text/plain": [
       "2.0"
      ]
     },
     "execution_count": 21,
     "metadata": {},
     "output_type": "execute_result"
    }
   ],
   "source": [
    "float(x)"
   ]
  },
  {
   "cell_type": "code",
   "execution_count": 23,
   "id": "4bb7806f-2fe7-479e-94aa-38ab2b1e03a6",
   "metadata": {},
   "outputs": [
    {
     "data": {
      "text/plain": [
       "int"
      ]
     },
     "execution_count": 23,
     "metadata": {},
     "output_type": "execute_result"
    }
   ],
   "source": [
    "type(x)"
   ]
  },
  {
   "cell_type": "code",
   "execution_count": 29,
   "id": "0f0ede3f-8b9b-46fb-b6ec-83b6cc3cbf9a",
   "metadata": {},
   "outputs": [
    {
     "data": {
      "text/plain": [
       "2.0"
      ]
     },
     "execution_count": 29,
     "metadata": {},
     "output_type": "execute_result"
    }
   ],
   "source": [
    "x= float (2)\n",
    "x"
   ]
  },
  {
   "cell_type": "code",
   "execution_count": 31,
   "id": "fb589517-fdbc-420d-a528-29baa0ae9a10",
   "metadata": {},
   "outputs": [
    {
     "data": {
      "text/plain": [
       "float"
      ]
     },
     "execution_count": 31,
     "metadata": {},
     "output_type": "execute_result"
    }
   ],
   "source": [
    "type(x)"
   ]
  },
  {
   "cell_type": "code",
   "execution_count": 33,
   "id": "51e16b3f-8c93-465e-9090-994a63a0470e",
   "metadata": {},
   "outputs": [
    {
     "data": {
      "text/plain": [
       "2"
      ]
     },
     "execution_count": 33,
     "metadata": {},
     "output_type": "execute_result"
    }
   ],
   "source": [
    "x=int(2.0)\n",
    "x"
   ]
  },
  {
   "cell_type": "code",
   "execution_count": 35,
   "id": "f93456c1-abfa-4cc6-8cd1-3f03ef41676a",
   "metadata": {},
   "outputs": [
    {
     "data": {
      "text/plain": [
       "int"
      ]
     },
     "execution_count": 35,
     "metadata": {},
     "output_type": "execute_result"
    }
   ],
   "source": [
    "type(x)"
   ]
  },
  {
   "cell_type": "code",
   "execution_count": 1,
   "id": "da42b943-ec4c-4995-a511-9dc88c704cb4",
   "metadata": {},
   "outputs": [],
   "source": [
    "#Bitwise operators"
   ]
  },
  {
   "cell_type": "code",
   "execution_count": 5,
   "id": "21cecd88-428d-4c29-9c3b-10eb6722f2dd",
   "metadata": {},
   "outputs": [
    {
     "name": "stdout",
     "output_type": "stream",
     "text": [
      "0b111100\n",
      "0b1101\n",
      "0b1100\n",
      "0b111101\n",
      "0b110001\n"
     ]
    }
   ],
   "source": [
    "a = 60\n",
    "b = 13\n",
    "\n",
    "print(bin(a))  # Output: '0b111100'\n",
    "print(bin(b))  # Output: '0b1101'\n",
    "\n",
    "print(bin(a & b))  # Output: '0b1100' Sets each bit to 1 if both are 1\n",
    "print(bin(a | b))  # Output: '0b111101' Sets each bit to 1 if either are 1\n",
    "print(bin(a ^ b))  # Output: '0b110001' Sets each bit to 1 if only one is 1\n"
   ]
  },
  {
   "cell_type": "code",
   "execution_count": 1,
   "id": "745ce33c-2901-4669-b3e0-0eec1a3eaac9",
   "metadata": {},
   "outputs": [
    {
     "name": "stdout",
     "output_type": "stream",
     "text": [
      "a = 5  (binary: 0b101 )\n",
      "b = 3  (binary: 0b11 )\n",
      "a & b = 1  (binary: 0b1 )\n",
      "a | b = 7  (binary: 0b111 )\n",
      "a ^ b = 6  (binary: 0b110 )\n",
      "~a = -6  (binary (two’s-complement): 0b1111111111111010 for a 16-bit view) )\n",
      "a << 2 = 20  (binary: 0b10100 )\n",
      "b >> 1 = 1  (binary: 0b1 )\n"
     ]
    }
   ],
   "source": [
    "# Define two integers\n",
    "a = 5    # binary: 0b0101\n",
    "b = 3    # binary: 0b0011\n",
    "\n",
    "print(\"a =\", a, \" (binary:\", bin(a), \")\")\n",
    "print(\"b =\", b, \" (binary:\", bin(b), \")\")\n",
    "\n",
    "# Bitwise AND\n",
    "print(\"a & b =\", a & b,     \" (binary:\", bin(a & b), \")\")\n",
    "\n",
    "# Bitwise OR\n",
    "print(\"a | b =\", a | b,     \" (binary:\", bin(a | b), \")\")\n",
    "\n",
    "# Bitwise XOR\n",
    "print(\"a ^ b =\", a ^ b,     \" (binary:\", bin(a ^ b), \")\")\n",
    "\n",
    "# Bitwise NOT\n",
    "print(\"~a =\", ~a,           \" (binary (two’s-complement):\", bin(~a & 0xffff), \"for a 16-bit view)\", \")\")\n",
    "\n",
    "# Left shift (multiply by 2**2)\n",
    "print(\"a << 2 =\", a << 2,   \" (binary:\", bin(a << 2), \")\")\n",
    "\n",
    "# Right shift (floor-divide by 2**1)\n",
    "print(\"b >> 1 =\", b >> 1,   \" (binary:\", bin(b >> 1), \")\")\n"
   ]
  }
 ],
 "metadata": {
  "kernelspec": {
   "display_name": "Python 3",
   "language": "python",
   "name": "python3"
  },
  "language_info": {
   "codemirror_mode": {
    "name": "ipython",
    "version": 3
   },
   "file_extension": ".py",
   "mimetype": "text/x-python",
   "name": "python",
   "nbconvert_exporter": "python",
   "pygments_lexer": "ipython3",
   "version": "3.13.3"
  }
 },
 "nbformat": 4,
 "nbformat_minor": 5
}
