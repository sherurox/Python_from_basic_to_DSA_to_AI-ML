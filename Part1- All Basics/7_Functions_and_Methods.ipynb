{
 "cells": [
  {
   "cell_type": "code",
   "execution_count": 1,
   "id": "8c1ede61-b016-44bf-ba8f-9d3c7414747c",
   "metadata": {},
   "outputs": [
    {
     "name": "stdin",
     "output_type": "stream",
     "text": [
      "Enter first num 1\n",
      "Enter second num 2\n"
     ]
    }
   ],
   "source": [
    "x=input(\"Enter first num\")\n",
    "y=input(\"Enter second num\")\n",
    "z= x+y"
   ]
  },
  {
   "cell_type": "code",
   "execution_count": 3,
   "id": "1a514c20-ac42-4a72-9c02-93838d204042",
   "metadata": {},
   "outputs": [
    {
     "name": "stdout",
     "output_type": "stream",
     "text": [
      "12\n"
     ]
    }
   ],
   "source": [
    "print(z)"
   ]
  },
  {
   "cell_type": "code",
   "execution_count": 12,
   "id": "8a8cfdaf-df20-4ac9-a1fa-725b521cbe7d",
   "metadata": {},
   "outputs": [
    {
     "ename": "SyntaxError",
     "evalue": "invalid syntax (1281081843.py, line 1)",
     "output_type": "error",
     "traceback": [
      "\u001b[0;36m  Cell \u001b[0;32mIn[12], line 1\u001b[0;36m\u001b[0m\n\u001b[0;31m    int x=input(\"Enter first num\")\u001b[0m\n\u001b[0m        ^\u001b[0m\n\u001b[0;31mSyntaxError\u001b[0m\u001b[0;31m:\u001b[0m invalid syntax\n"
     ]
    }
   ],
   "source": [
    "int x=input(\"Enter first num\")\n",
    "int y=input(\"Enter second num\")"
   ]
  },
  {
   "cell_type": "code",
   "execution_count": 14,
   "id": "0cc86b27-5f1d-4c5d-a5bf-ae028bbac237",
   "metadata": {},
   "outputs": [
    {
     "name": "stdin",
     "output_type": "stream",
     "text": [
      "Enter first num 1\n",
      "Enter second num 2\n"
     ]
    }
   ],
   "source": [
    "x=input(\"Enter first num\")\n",
    "y=input(\"Enter second num\")\n",
    "x = int(x)\n",
    "y = int(y)\n",
    "z= x+y"
   ]
  },
  {
   "cell_type": "code",
   "execution_count": 16,
   "id": "3f56a972-7bf3-4976-91ae-b507fc369dd8",
   "metadata": {},
   "outputs": [
    {
     "name": "stdout",
     "output_type": "stream",
     "text": [
      "3\n"
     ]
    }
   ],
   "source": [
    "print (z)"
   ]
  },
  {
   "cell_type": "code",
   "execution_count": 18,
   "id": "d595df11-a2d1-423c-a50c-57d9cc1dd47c",
   "metadata": {},
   "outputs": [],
   "source": [
    "# for latest python we have to typecast to perform the inputed arithmatic operation"
   ]
  },
  {
   "cell_type": "code",
   "execution_count": 28,
   "id": "4224e45b-b77f-4b1d-ba0e-6aeb8d3b5261",
   "metadata": {},
   "outputs": [
    {
     "name": "stdout",
     "output_type": "stream",
     "text": [
      "8\n"
     ]
    }
   ],
   "source": [
    "def add(x,y=0): #setting default parameter y as 0 so that if value of y not give, it will be considerd as 0\n",
    "    z=x+y\n",
    "    return print(z)\n",
    "\n",
    "\n",
    "a=3\n",
    "b=5\n",
    "c= add(a,b)\n"
   ]
  },
  {
   "cell_type": "code",
   "execution_count": 30,
   "id": "9bd592ed-ab0d-4160-8902-9264a4c9287f",
   "metadata": {},
   "outputs": [
    {
     "name": "stdout",
     "output_type": "stream",
     "text": [
      "3\n"
     ]
    }
   ],
   "source": [
    "c=add(a)"
   ]
  },
  {
   "cell_type": "code",
   "execution_count": 34,
   "id": "2a3016e3-effd-438d-876c-4056d9b1109d",
   "metadata": {},
   "outputs": [
    {
     "name": "stdin",
     "output_type": "stream",
     "text": [
      "Enter first num 2\n",
      "Enter second num 0\n"
     ]
    },
    {
     "name": "stdout",
     "output_type": "stream",
     "text": [
      "denominator can't be 0\n"
     ]
    }
   ],
   "source": [
    "def div(x,y):\n",
    "    if y==0:\n",
    "        return print(\"denominator can't be 0\")\n",
    "        \n",
    "    \n",
    "    z=x/y\n",
    "    return print(z)\n",
    "\n",
    "a= input(\"Enter first num\")\n",
    "\n",
    "b= input(\"Enter second num\")\n",
    "\n",
    "div(int(a),int(b))\n"
   ]
  },
  {
   "cell_type": "code",
   "execution_count": 37,
   "id": "7e8426c2-a26c-432f-a5bd-54dfeee2d215",
   "metadata": {},
   "outputs": [
    {
     "data": {
      "text/plain": [
       "'\\nTop 50 Most Used Methods in Python:\\n\\n1. print() - Outputs data to the console\\n2. input() - Reads input from the user\\n3. len() - Returns the length of an object (list, string, etc.)\\n4. range() - Generates a range of numbers\\n5. type() - Returns the type of an object\\n6. int() - Converts a value to an integer\\n7. float() - Converts a value to a floating-point number\\n8. str() - Converts a value to a string\\n9. list() - Converts an iterable into a list\\n10. dict() - Creates a dictionary\\n11. set() - Converts an iterable into a set\\n12. tuple() - Converts an iterable into a tuple\\n13. abs() - Returns the absolute value of a number\\n14. sum() - Returns the sum of an iterable\\n15. max() - Returns the largest element of an iterable\\n16. min() - Returns the smallest element of an iterable\\n17. sorted() - Returns a sorted list from an iterable\\n18. reversed() - Returns a reversed iterator\\n19. map() - Applies a function to all elements of an iterable\\n20. filter() - Filters elements of an iterable based on a function\\n21. zip() - Combines multiple iterables into tuples\\n22. enumerate() - Adds an index to an iterable\\n23. all() - Returns True if all elements of an iterable are True\\n24. any() - Returns True if any element of an iterable is True\\n25. isinstance() - Checks if an object is an instance of a class\\n26. issubclass() - Checks if a class is a subclass of another\\n27. id() - Returns the identity of an object\\n28. dir() - Returns a list of attributes of an object\\n29. help() - Provides documentation for an object\\n30. hasattr() - Checks if an object has a specific attribute\\n31. getattr() - Gets an attribute of an object\\n32. setattr() - Sets an attribute of an object\\n33. delattr() - Deletes an attribute of an object\\n34. chr() - Returns a character for a Unicode code point\\n35. ord() - Returns the Unicode code point for a character\\n36. bin() - Converts a number to a binary string\\n37. hex() - Converts a number to a hexadecimal string\\n38. oct() - Converts a number to an octal string\\n39. pow() - Returns the power of a number (base, exp, mod)\\n40. round() - Rounds a number to the nearest integer or specified decimal places\\n41. open() - Opens a file and returns a file object\\n42. read() - Reads the content of a file\\n43. readline() - Reads a single line from a file\\n44. readlines() - Reads all lines from a file\\n45. write() - Writes a string to a file\\n46. close() - Closes a file\\n47. append() - Appends an item to a list\\n48. pop() - Removes and returns an item from a list or dictionary\\n49. split() - Splits a string into a list\\n50. join() - Joins elements of an iterable into a single string\\n'"
      ]
     },
     "execution_count": 37,
     "metadata": {},
     "output_type": "execute_result"
    }
   ],
   "source": [
    "\"\"\"\n",
    "Top 50 Most Used Methods in Python:\n",
    "\n",
    "1. print() - Outputs data to the console\n",
    "2. input() - Reads input from the user\n",
    "3. len() - Returns the length of an object (list, string, etc.)\n",
    "4. range() - Generates a range of numbers\n",
    "5. type() - Returns the type of an object\n",
    "6. int() - Converts a value to an integer\n",
    "7. float() - Converts a value to a floating-point number\n",
    "8. str() - Converts a value to a string\n",
    "9. list() - Converts an iterable into a list\n",
    "10. dict() - Creates a dictionary\n",
    "11. set() - Converts an iterable into a set\n",
    "12. tuple() - Converts an iterable into a tuple\n",
    "13. abs() - Returns the absolute value of a number\n",
    "14. sum() - Returns the sum of an iterable\n",
    "15. max() - Returns the largest element of an iterable\n",
    "16. min() - Returns the smallest element of an iterable\n",
    "17. sorted() - Returns a sorted list from an iterable\n",
    "18. reversed() - Returns a reversed iterator\n",
    "19. map() - Applies a function to all elements of an iterable\n",
    "20. filter() - Filters elements of an iterable based on a function\n",
    "21. zip() - Combines multiple iterables into tuples\n",
    "22. enumerate() - Adds an index to an iterable\n",
    "23. all() - Returns True if all elements of an iterable are True\n",
    "24. any() - Returns True if any element of an iterable is True\n",
    "25. isinstance() - Checks if an object is an instance of a class\n",
    "26. issubclass() - Checks if a class is a subclass of another\n",
    "27. id() - Returns the identity of an object\n",
    "28. dir() - Returns a list of attributes of an object\n",
    "29. help() - Provides documentation for an object\n",
    "30. hasattr() - Checks if an object has a specific attribute\n",
    "31. getattr() - Gets an attribute of an object\n",
    "32. setattr() - Sets an attribute of an object\n",
    "33. delattr() - Deletes an attribute of an object\n",
    "34. chr() - Returns a character for a Unicode code point\n",
    "35. ord() - Returns the Unicode code point for a character\n",
    "36. bin() - Converts a number to a binary string\n",
    "37. hex() - Converts a number to a hexadecimal string\n",
    "38. oct() - Converts a number to an octal string\n",
    "39. pow() - Returns the power of a number (base, exp, mod)\n",
    "40. round() - Rounds a number to the nearest integer or specified decimal places\n",
    "41. open() - Opens a file and returns a file object\n",
    "42. read() - Reads the content of a file\n",
    "43. readline() - Reads a single line from a file\n",
    "44. readlines() - Reads all lines from a file\n",
    "45. write() - Writes a string to a file\n",
    "46. close() - Closes a file\n",
    "47. append() - Appends an item to a list\n",
    "48. pop() - Removes and returns an item from a list or dictionary\n",
    "49. split() - Splits a string into a list\n",
    "50. join() - Joins elements of an iterable into a single string\n",
    "\"\"\"\n"
   ]
  },
  {
   "cell_type": "code",
   "execution_count": null,
   "id": "080ecd97-a124-45fd-89da-57473d25eca2",
   "metadata": {},
   "outputs": [],
   "source": []
  }
 ],
 "metadata": {
  "kernelspec": {
   "display_name": "Python 3 (ipykernel)",
   "language": "python",
   "name": "python3"
  },
  "language_info": {
   "codemirror_mode": {
    "name": "ipython",
    "version": 3
   },
   "file_extension": ".py",
   "mimetype": "text/x-python",
   "name": "python",
   "nbconvert_exporter": "python",
   "pygments_lexer": "ipython3",
   "version": "3.12.4"
  }
 },
 "nbformat": 4,
 "nbformat_minor": 5
}
