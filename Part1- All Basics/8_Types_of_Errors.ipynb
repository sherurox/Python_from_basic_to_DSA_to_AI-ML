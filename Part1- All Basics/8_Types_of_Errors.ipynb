{
 "cells": [
  {
   "cell_type": "code",
   "execution_count": 1,
   "id": "cba549cb-d1c9-4a7e-b222-c39681a3eb75",
   "metadata": {},
   "outputs": [],
   "source": [
    "#There are total 30 different kinds of errors"
   ]
  },
  {
   "cell_type": "code",
   "execution_count": 3,
   "id": "110198eb-c7bd-4e96-8a30-90933a8fda03",
   "metadata": {},
   "outputs": [
    {
     "data": {
      "text/plain": [
       "\"\\nHere is a list of all the built-in errors (exceptions) available in Python as of Python 3.x:\\n\\n- BaseException: The base class for all exceptions\\n    - SystemExit: Raised when the interpreter exits\\n    - KeyboardInterrupt: Raised when the user interrupts execution (Ctrl+C)\\n    - GeneratorExit: Raised when a generator or coroutine is closed\\n    - Exception: Base class for all built-in, non-exiting exceptions\\n        - StopIteration: Raised to signal the end of an iterator\\n        - StopAsyncIteration: Raised to signal the end of an asynchronous iterator\\n        - ArithmeticError: Base class for errors in numeric calculations\\n            - FloatingPointError: Raised when a floating point operation fails\\n            - OverflowError: Raised when a result of arithmetic is too large\\n            - ZeroDivisionError: Raised when division or modulo by zero occurs\\n        - AssertionError: Raised when an assert statement fails\\n        - AttributeError: Raised when an invalid attribute reference occurs\\n        - BufferError: Raised when operations on a buffer fail\\n        - EOFError: Raised when an input() function hits an end-of-file condition\\n        - ImportError: Raised when an import statement fails\\n            - ModuleNotFoundError: Raised when a module cannot be found\\n        - LookupError: Base class for lookup-related errors\\n            - IndexError: Raised when a sequence index is out of range\\n            - KeyError: Raised when a dictionary key is not found\\n        - MemoryError: Raised when an operation runs out of memory\\n        - NameError: Raised when a variable name is not found\\n            - UnboundLocalError: Raised when a local variable is referenced before assignment\\n        - OSError: Base class for system-related errors\\n            - BlockingIOError: Raised when an I/O operation would block\\n            - ChildProcessError: Raised when an operation on a child process fails\\n            - ConnectionError: Base class for connection-related errors\\n                - BrokenPipeError: Raised when a pipe or socket connection is broken\\n                - ConnectionAbortedError: Raised when a connection is aborted\\n                - ConnectionRefusedError: Raised when a connection is refused\\n                - ConnectionResetError: Raised when a connection is reset\\n            - FileExistsError: Raised when a file operation fails because the file exists\\n            - FileNotFoundError: Raised when a file is not found\\n            - InterruptedError: Raised when a system call is interrupted\\n            - IsADirectoryError: Raised when a file operation is attempted on a directory\\n            - NotADirectoryError: Raised when a directory operation is attempted on a file\\n            - PermissionError: Raised when a file operation lacks the correct permissions\\n            - ProcessLookupError: Raised when a process is not found\\n            - TimeoutError: Raised when a system function times out\\n        - ReferenceError: Raised when a weak reference is used but no longer exists\\n        - RuntimeError: Raised when an unexpected runtime error occurs\\n            - NotImplementedError: Raised when a method hasn't been implemented\\n            - RecursionError: Raised when the recursion depth is exceeded\\n        - SyntaxError: Raised when a syntax error occurs\\n            - IndentationError: Raised when indentation is incorrect\\n                - TabError: Raised when tabs and spaces are mixed\\n        - SystemError: Raised when an internal Python error occurs\\n        - TypeError: Raised when an operation is performed on an incorrect type\\n        - ValueError: Raised when an invalid value is passed to a function\\n            - UnicodeError: Base class for Unicode errors\\n                - UnicodeDecodeError: Raised when decoding a Unicode string fails\\n                - UnicodeEncodeError: Raised when encoding a Unicode string fails\\n                - UnicodeTranslateError: Raised when translating a Unicode string fails\\n        - Warning: Base class for all warning categories\\n            - DeprecationWarning: Raised for deprecated features\\n            - PendingDeprecationWarning: Raised for features that will be deprecated\\n            - RuntimeWarning: Raised for suspicious runtime behavior\\n            - SyntaxWarning: Raised for suspicious syntax\\n            - UserWarning: Raised for user-defined warnings\\n            - FutureWarning: Raised for features that will change in the future\\n            - ImportWarning: Raised for issues during imports\\n            - UnicodeWarning: Raised for Unicode-related issues\\n            - BytesWarning: Raised for issues with bytes/bytearray\\n            - ResourceWarning: Raised for resource-related warnings\\n\""
      ]
     },
     "execution_count": 3,
     "metadata": {},
     "output_type": "execute_result"
    }
   ],
   "source": [
    "\"\"\"\n",
    "Here is a list of all the built-in errors (exceptions) available in Python as of Python 3.x:\n",
    "\n",
    "- BaseException: The base class for all exceptions\n",
    "    - SystemExit: Raised when the interpreter exits\n",
    "    - KeyboardInterrupt: Raised when the user interrupts execution (Ctrl+C)\n",
    "    - GeneratorExit: Raised when a generator or coroutine is closed\n",
    "    - Exception: Base class for all built-in, non-exiting exceptions\n",
    "        - StopIteration: Raised to signal the end of an iterator\n",
    "        - StopAsyncIteration: Raised to signal the end of an asynchronous iterator\n",
    "        - ArithmeticError: Base class for errors in numeric calculations\n",
    "            - FloatingPointError: Raised when a floating point operation fails\n",
    "            - OverflowError: Raised when a result of arithmetic is too large\n",
    "            - ZeroDivisionError: Raised when division or modulo by zero occurs\n",
    "        - AssertionError: Raised when an assert statement fails\n",
    "        - AttributeError: Raised when an invalid attribute reference occurs\n",
    "        - BufferError: Raised when operations on a buffer fail\n",
    "        - EOFError: Raised when an input() function hits an end-of-file condition\n",
    "        - ImportError: Raised when an import statement fails\n",
    "            - ModuleNotFoundError: Raised when a module cannot be found\n",
    "        - LookupError: Base class for lookup-related errors\n",
    "            - IndexError: Raised when a sequence index is out of range\n",
    "            - KeyError: Raised when a dictionary key is not found\n",
    "        - MemoryError: Raised when an operation runs out of memory\n",
    "        - NameError: Raised when a variable name is not found\n",
    "            - UnboundLocalError: Raised when a local variable is referenced before assignment\n",
    "        - OSError: Base class for system-related errors\n",
    "            - BlockingIOError: Raised when an I/O operation would block\n",
    "            - ChildProcessError: Raised when an operation on a child process fails\n",
    "            - ConnectionError: Base class for connection-related errors\n",
    "                - BrokenPipeError: Raised when a pipe or socket connection is broken\n",
    "                - ConnectionAbortedError: Raised when a connection is aborted\n",
    "                - ConnectionRefusedError: Raised when a connection is refused\n",
    "                - ConnectionResetError: Raised when a connection is reset\n",
    "            - FileExistsError: Raised when a file operation fails because the file exists\n",
    "            - FileNotFoundError: Raised when a file is not found\n",
    "            - InterruptedError: Raised when a system call is interrupted\n",
    "            - IsADirectoryError: Raised when a file operation is attempted on a directory\n",
    "            - NotADirectoryError: Raised when a directory operation is attempted on a file\n",
    "            - PermissionError: Raised when a file operation lacks the correct permissions\n",
    "            - ProcessLookupError: Raised when a process is not found\n",
    "            - TimeoutError: Raised when a system function times out\n",
    "        - ReferenceError: Raised when a weak reference is used but no longer exists\n",
    "        - RuntimeError: Raised when an unexpected runtime error occurs\n",
    "            - NotImplementedError: Raised when a method hasn't been implemented\n",
    "            - RecursionError: Raised when the recursion depth is exceeded\n",
    "        - SyntaxError: Raised when a syntax error occurs\n",
    "            - IndentationError: Raised when indentation is incorrect\n",
    "                - TabError: Raised when tabs and spaces are mixed\n",
    "        - SystemError: Raised when an internal Python error occurs\n",
    "        - TypeError: Raised when an operation is performed on an incorrect type\n",
    "        - ValueError: Raised when an invalid value is passed to a function\n",
    "            - UnicodeError: Base class for Unicode errors\n",
    "                - UnicodeDecodeError: Raised when decoding a Unicode string fails\n",
    "                - UnicodeEncodeError: Raised when encoding a Unicode string fails\n",
    "                - UnicodeTranslateError: Raised when translating a Unicode string fails\n",
    "        - Warning: Base class for all warning categories\n",
    "            - DeprecationWarning: Raised for deprecated features\n",
    "            - PendingDeprecationWarning: Raised for features that will be deprecated\n",
    "            - RuntimeWarning: Raised for suspicious runtime behavior\n",
    "            - SyntaxWarning: Raised for suspicious syntax\n",
    "            - UserWarning: Raised for user-defined warnings\n",
    "            - FutureWarning: Raised for features that will change in the future\n",
    "            - ImportWarning: Raised for issues during imports\n",
    "            - UnicodeWarning: Raised for Unicode-related issues\n",
    "            - BytesWarning: Raised for issues with bytes/bytearray\n",
    "            - ResourceWarning: Raised for resource-related warnings\n",
    "\"\"\"\n"
   ]
  },
  {
   "cell_type": "code",
   "execution_count": null,
   "id": "8f313ffd-5759-4fce-a9b8-4fd0f9a9d00e",
   "metadata": {},
   "outputs": [],
   "source": []
  }
 ],
 "metadata": {
  "kernelspec": {
   "display_name": "Python 3 (ipykernel)",
   "language": "python",
   "name": "python3"
  },
  "language_info": {
   "codemirror_mode": {
    "name": "ipython",
    "version": 3
   },
   "file_extension": ".py",
   "mimetype": "text/x-python",
   "name": "python",
   "nbconvert_exporter": "python",
   "pygments_lexer": "ipython3",
   "version": "3.12.4"
  }
 },
 "nbformat": 4,
 "nbformat_minor": 5
}
