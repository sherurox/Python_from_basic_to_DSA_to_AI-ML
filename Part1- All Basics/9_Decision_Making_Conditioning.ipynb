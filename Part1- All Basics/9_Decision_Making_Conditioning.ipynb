{
 "cells": [
  {
   "cell_type": "code",
   "execution_count": 13,
   "id": "67dd3f17-bba4-4c4f-ab51-ba88591e27bf",
   "metadata": {},
   "outputs": [
    {
     "name": "stdout",
     "output_type": "stream",
     "text": [
      "0\n"
     ]
    }
   ],
   "source": [
    "#If-else\n",
    "x=-1\n",
    "y=0\n",
    "if (x!=y and x>0):\n",
    "    print (x)\n",
    "    if (x==-1):\n",
    "        print(\"This is called nested conditions\")\n",
    "elif (x==y):\n",
    "    print(\"Both Numbers are same\")\n",
    "    \n",
    "else:\n",
    "    print (x+1)"
   ]
  },
  {
   "cell_type": "code",
   "execution_count": null,
   "id": "4e2c1f29-d5d3-4e1b-a9d1-06ed9e9fb722",
   "metadata": {},
   "outputs": [],
   "source": []
  }
 ],
 "metadata": {
  "kernelspec": {
   "display_name": "Python 3 (ipykernel)",
   "language": "python",
   "name": "python3"
  },
  "language_info": {
   "codemirror_mode": {
    "name": "ipython",
    "version": 3
   },
   "file_extension": ".py",
   "mimetype": "text/x-python",
   "name": "python",
   "nbconvert_exporter": "python",
   "pygments_lexer": "ipython3",
   "version": "3.12.4"
  }
 },
 "nbformat": 4,
 "nbformat_minor": 5
}
